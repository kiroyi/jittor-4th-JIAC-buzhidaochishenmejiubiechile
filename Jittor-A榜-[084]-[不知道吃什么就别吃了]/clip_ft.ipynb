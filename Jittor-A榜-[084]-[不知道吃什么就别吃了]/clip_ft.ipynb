{
 "cells": [
  {
   "cell_type": "code",
   "execution_count": 1,
   "id": "0ca1f707-ebbf-41e4-bc9a-b30f3f2ade48",
   "metadata": {
    "ExecutionIndicator": {
     "show": true
    },
    "execution": {
     "iopub.execute_input": "2024-08-01T07:11:30.898309Z",
     "iopub.status.busy": "2024-08-01T07:11:30.897844Z",
     "iopub.status.idle": "2024-08-01T07:13:42.676833Z",
     "shell.execute_reply": "2024-08-01T07:13:42.675983Z",
     "shell.execute_reply.started": "2024-08-01T07:11:30.898275Z"
    },
    "tags": []
   },
   "outputs": [
    {
     "name": "stdout",
     "output_type": "stream",
     "text": [
      "[i 0801 15:11:31.291198 88 lock.py:85] Create lock file:/root/.cache/jittor/jt1.3.9/g++11.4.0/py3.10.14/Linux-4.19.24-xe6/IntelRXeonRPlaxf9/d731/jittor.lock\n",
      "[i 0801 15:11:31.327026 88 compiler.py:956] Jittor(1.3.9.5) src: /usr/local/lib/python3.10/site-packages/jittor\n",
      "[i 0801 15:11:31.332849 88 compiler.py:957] g++ at /usr/bin/g++(11.4.0)\n",
      "[i 0801 15:11:31.332957 88 compiler.py:958] cache_path: /root/.cache/jittor/jt1.3.9/g++11.4.0/py3.10.14/Linux-4.19.24-xe6/IntelRXeonRPlaxf9/d731/default\n",
      "[i 0801 15:11:31.349484 88 __init__.py:412] Found nvcc(12.1.105) at /usr/local/cuda/bin/nvcc.\n",
      "[i 0801 15:11:31.783860 88 __init__.py:412] Found gdb(22.04.2) at /usr/bin/gdb.\n",
      "[i 0801 15:11:31.790569 88 __init__.py:412] Found addr2line(2.38) at /usr/bin/addr2line.\n",
      "[i 0801 15:11:32.178259 88 compiler.py:1011] cuda key:cu12.1.105_sm_70\n",
      "[i 0801 15:11:32.204974 88 compiler.py:34] Create cache dir: /root/.cache/jittor/jt1.3.9/g++11.4.0/py3.10.14/Linux-4.19.24-xe6/IntelRXeonRPlaxf9/d731/default/cu12.1.105_sm_70\n",
      "[i 0801 15:11:32.205139 88 compiler.py:34] Create cache dir: /root/.cache/jittor/jt1.3.9/g++11.4.0/py3.10.14/Linux-4.19.24-xe6/IntelRXeonRPlaxf9/d731/default/cu12.1.105_sm_70/jit\n",
      "[i 0801 15:11:32.205259 88 compiler.py:34] Create cache dir: /root/.cache/jittor/jt1.3.9/g++11.4.0/py3.10.14/Linux-4.19.24-xe6/IntelRXeonRPlaxf9/d731/default/cu12.1.105_sm_70/obj_files\n",
      "[i 0801 15:11:32.205357 88 compiler.py:34] Create cache dir: /root/.cache/jittor/jt1.3.9/g++11.4.0/py3.10.14/Linux-4.19.24-xe6/IntelRXeonRPlaxf9/d731/default/cu12.1.105_sm_70/gen\n",
      "[i 0801 15:11:32.205440 88 compiler.py:34] Create cache dir: /root/.cache/jittor/jt1.3.9/g++11.4.0/py3.10.14/Linux-4.19.24-xe6/IntelRXeonRPlaxf9/d731/default/cu12.1.105_sm_70/tmp\n",
      "[i 0801 15:11:32.205521 88 compiler.py:34] Create cache dir: /root/.cache/jittor/jt1.3.9/g++11.4.0/py3.10.14/Linux-4.19.24-xe6/IntelRXeonRPlaxf9/d731/default/cu12.1.105_sm_70/checkpoints\n"
     ]
    },
    {
     "name": "stderr",
     "output_type": "stream",
     "text": [
      "\u001b[38;5;2m[i 0801 15:11:39.506002 08 log.cc:351] Load log_sync: 1\u001b[m\n",
      "\u001b[38;5;2m[i 0801 15:11:54.833640 08 __init__.py:227] Total mem: 31.41GB, using 10 procs for compiling.\u001b[m\n"
     ]
    },
    {
     "name": "stdout",
     "output_type": "stream",
     "text": [
      "Compiling jittor_core(151/151) used: 61.306s eta: 0.000ss\n"
     ]
    },
    {
     "name": "stderr",
     "output_type": "stream",
     "text": [
      "\u001b[38;5;2m[i 0801 15:12:56.574031 08 log.cc:351] Load log_sync: 1\u001b[m\n",
      "\u001b[38;5;2m[i 0801 15:12:56.575400 08 jit_compiler.cc:28] Load cc_path: /usr/bin/g++\u001b[m\n",
      "\u001b[38;5;2m[i 0801 15:12:56.709734 08 init.cc:63] Found cuda archs: [70,]\u001b[m\n",
      "\u001b[38;5;2m[i 0801 15:12:59.269611 08 __init__.py:412] Found mpicc(4.1.2) at /usr/bin/mpicc.\u001b[m\n",
      "\u001b[38;5;2m[i 0801 15:12:59.283317 08 compiler.py:34] Create cache dir: /root/.cache/jittor/jt1.3.9/g++11.4.0/py3.10.14/Linux-4.19.24-xe6/IntelRXeonRPlaxf9/d731/default/cu12.1.105_sm_70/custom_ops\u001b[m\n"
     ]
    },
    {
     "name": "stdout",
     "output_type": "stream",
     "text": [
      "Compiling jittor_mpi_core(6/7) used: 2.233s eta: 0.372s\r"
     ]
    },
    {
     "name": "stderr",
     "output_type": "stream",
     "text": [
      "\u001b[38;5;2m[i 0801 15:13:02.142047 08 compile_extern.py:378] Downloading cutt...\u001b[m\n",
      "\u001b[38;5;2m[i 0801 15:13:02.153141 08 compile_extern.py:391] installing cutt...\u001b[m\n"
     ]
    },
    {
     "name": "stdout",
     "output_type": "stream",
     "text": [
      "Compiling jittor_mpi_core(7/7) used: 2.752s eta: 0.000s\n",
      "Compiling libcutt(9/9) used: 12.662s eta: 0.000s\n",
      "Compiling gen_ops_mkl_test_mkl_conv_mkl_matmul_mkl_conv_back___hashcad247(6/7) used: 4.052s eta: 0.675s\r"
     ]
    },
    {
     "name": "stderr",
     "output_type": "stream",
     "text": [
      "\u001b[38;5;2m[i 0801 15:13:21.500549 08 compiler.py:34] Create cache dir: /root/.cache/jittor/jt1.3.9/g++11.4.0/py3.10.14/Linux-4.19.24-xe6/IntelRXeonRPlaxf9/d731/default/cu12.1.105_sm_70/cuda\u001b[m\n"
     ]
    },
    {
     "name": "stdout",
     "output_type": "stream",
     "text": [
      "Compiling gen_ops_mkl_test_mkl_conv_mkl_matmul_mkl_conv_back___hashcad247(7/7) used: 4.538s eta: 0.000s\n",
      "Compiling gen_ops_cub_test_cub_cumsum_cub_argsort_cub_where____hash4eb589(6/6) used: 2.396s eta: 0.000s\n",
      "Compiling gen_ops_cublas_test_cublas_acc_matmul_cublas_matmu___hash02a226(8/8) used: 2.636s eta: 0.000s\n",
      "Compiling gen_ops_cudnn_conv_backward_w_cudnn_conv3d_backwar___hash25ad86(16/16) used: 8.139s eta: 0.000s\n"
     ]
    }
   ],
   "source": [
    "# export JT_SAVE_MEM=1\n",
    "# # 限制cpu最多使用16G\n",
    "# export cpu_mem_limit=-1\n",
    "# # 限制device内存（如gpu、tpu等）最多使用8G\n",
    "# export gpu_mem_limit=15000000000\n",
    "# import os\n",
    "# os.environ[\"JT_SAVE_MEM\"] = '1'\n",
    "# os.environ[\"cpu_mem_limit\"] = '-1'\n",
    "# os.environ[\"gpu_mem_limit\"] = '15000000000'\n",
    "import jclip as clip\n",
    "from jittor.dataset import Dataset\n",
    "from jittor.dataset import DataLoader\n",
    "from PIL import Image\n",
    "import jittor as jt\n",
    "import jittor.nn as nn\n",
    "import jittor.optim as optim\n",
    "from jittor import transform, utils\n",
    "import os\n",
    "import time\n",
    "import numpy as np\n",
    "from tqdm import tqdm\n",
    "import pandas as pd"
   ]
  },
  {
   "cell_type": "code",
   "execution_count": 2,
   "id": "15a9723c-69d5-4e6c-86b5-d5bc56a205b4",
   "metadata": {
    "ExecutionIndicator": {
     "show": true
    },
    "execution": {
     "iopub.execute_input": "2024-08-01T07:13:42.679053Z",
     "iopub.status.busy": "2024-08-01T07:13:42.678568Z",
     "iopub.status.idle": "2024-08-01T07:13:42.685227Z",
     "shell.execute_reply": "2024-08-01T07:13:42.684600Z",
     "shell.execute_reply.started": "2024-08-01T07:13:42.679025Z"
    },
    "tags": []
   },
   "outputs": [],
   "source": [
    "# load data\n",
    "class TripleDataset(Dataset):\n",
    "    def __init__(self, img_path, img_label, img_description, transform=None):\n",
    "        super(TripleDataset, self).__init__()\n",
    "        self.img_path = img_path\n",
    "        self.img_label = img_label\n",
    "        self.img_description = img_description \n",
    "        \n",
    "        if transform is not None:\n",
    "            self.transform = transform\n",
    "        else:\n",
    "            self.transform = None\n",
    "\n",
    "    def __getitem__(self, index):\n",
    "        \n",
    "        img = Image.open(self.img_path[index]).convert('RGB')\n",
    "        label = self.img_label[index]\n",
    "        img_description = self.img_description[index]\n",
    "        \n",
    "        if self.transform is not None:\n",
    "            img = self.transform(img)\n",
    "            \n",
    "        return img, label, img_description\n",
    "\n",
    "    def __len__(self):\n",
    "        return len(self.img_path)"
   ]
  },
  {
   "cell_type": "code",
   "execution_count": 3,
   "id": "b9d4d88c-82e0-41db-879f-629b60590f5e",
   "metadata": {
    "ExecutionIndicator": {
     "show": true
    },
    "execution": {
     "iopub.execute_input": "2024-08-01T07:13:42.686388Z",
     "iopub.status.busy": "2024-08-01T07:13:42.686121Z",
     "iopub.status.idle": "2024-08-01T07:13:42.712160Z",
     "shell.execute_reply": "2024-08-01T07:13:42.711569Z",
     "shell.execute_reply.started": "2024-08-01T07:13:42.686366Z"
    },
    "tags": []
   },
   "outputs": [],
   "source": [
    "train_label = pd.read_csv('/mnt/workspace/JCLIP/Dataset/train_1234_ft.txt')\n",
    "val_label = pd.read_csv('/mnt/workspace/JCLIP/Dataset/valid.txt')\n",
    "test_label = pd.read_csv('/mnt/workspace/JCLIP/Dataset/test.txt')"
   ]
  },
  {
   "cell_type": "code",
   "execution_count": 4,
   "id": "94737fef-ec72-402b-aca2-0e3af9250e58",
   "metadata": {
    "ExecutionIndicator": {
     "show": true
    },
    "execution": {
     "iopub.execute_input": "2024-08-01T07:13:42.714047Z",
     "iopub.status.busy": "2024-08-01T07:13:42.713740Z",
     "iopub.status.idle": "2024-08-01T07:13:42.725189Z",
     "shell.execute_reply": "2024-08-01T07:13:42.724403Z",
     "shell.execute_reply.started": "2024-08-01T07:13:42.714023Z"
    },
    "tags": []
   },
   "outputs": [],
   "source": [
    "train_label['path'] = '/mnt/workspace/JCLIP/Dataset/' + train_label['img_name']\n",
    "val_label['path'] = '/mnt/workspace/JCLIP/Dataset/' + val_label['img_name']\n",
    "test_label['path'] = '/mnt/workspace/JCLIP/Dataset/TestSetA/' + test_label['img_name']\n",
    "train_label['description'] = None\n",
    "val_label['description'] = None\n",
    "test_label['description'] = None"
   ]
  },
  {
   "cell_type": "code",
   "execution_count": 5,
   "id": "1abe3c9d-dad6-466d-ba0d-3f895a855059",
   "metadata": {
    "ExecutionIndicator": {
     "show": true
    },
    "execution": {
     "iopub.execute_input": "2024-08-01T07:13:42.726375Z",
     "iopub.status.busy": "2024-08-01T07:13:42.726098Z",
     "iopub.status.idle": "2024-08-01T07:13:42.732265Z",
     "shell.execute_reply": "2024-08-01T07:13:42.731616Z",
     "shell.execute_reply.started": "2024-08-01T07:13:42.726351Z"
    },
    "tags": []
   },
   "outputs": [],
   "source": [
    "def append_description(dataframe):\n",
    "    for index, row in dataframe.iterrows():\n",
    "        paths = row['img_name'].split('/')\n",
    "        # test\n",
    "        if len(paths) >= 2:\n",
    "            cname = paths[-2]\n",
    "            cname_father = paths[-3]\n",
    "            if cname_father.startswith('Animal'):\n",
    "                dataframe.at[index, 'description'] = 'A photo of ' + cname.lower().replace('_', ' ') + ', a type of animal'\n",
    "            elif cname_father.startswith('Thu-dog'):\n",
    "                dataframe.at[index, 'description'] = 'A photo of ' + cname.lower().replace('_', ' ') + ', a type of dog'\n",
    "            elif cname_father.startswith('Caltech-101'):\n",
    "                dataframe.at[index, 'description'] = 'A photo of ' + cname.lower().replace('_', ' ')\n",
    "            elif cname_father.startswith('Food-101'):\n",
    "                dataframe.at[index, 'description'] = 'A photo of ' + cname.lower().replace('_', ' ') + ', a type of food'\n",
    "        else:\n",
    "            return dataframe\n",
    "    return dataframe"
   ]
  },
  {
   "cell_type": "code",
   "execution_count": 6,
   "id": "e2835d75-1300-40d5-b8a1-5a89ccf42af5",
   "metadata": {
    "ExecutionIndicator": {
     "show": true
    },
    "execution": {
     "iopub.execute_input": "2024-08-01T07:13:42.733502Z",
     "iopub.status.busy": "2024-08-01T07:13:42.733241Z",
     "iopub.status.idle": "2024-08-01T07:13:43.106497Z",
     "shell.execute_reply": "2024-08-01T07:13:43.105619Z",
     "shell.execute_reply.started": "2024-08-01T07:13:42.733480Z"
    },
    "tags": []
   },
   "outputs": [],
   "source": [
    "train_label = append_description(train_label)\n",
    "val_label = append_description(val_label)\n",
    "test_label = append_description(test_label)"
   ]
  },
  {
   "cell_type": "code",
   "execution_count": 7,
   "id": "b3212c9a-a6c2-44ff-8dcb-55d2a292272b",
   "metadata": {
    "ExecutionIndicator": {
     "show": true
    },
    "execution": {
     "iopub.execute_input": "2024-08-01T07:13:43.108103Z",
     "iopub.status.busy": "2024-08-01T07:13:43.107573Z",
     "iopub.status.idle": "2024-08-01T07:13:43.124095Z",
     "shell.execute_reply": "2024-08-01T07:13:43.123432Z",
     "shell.execute_reply.started": "2024-08-01T07:13:43.108076Z"
    },
    "tags": []
   },
   "outputs": [
    {
     "data": {
      "text/html": [
       "<div>\n",
       "<style scoped>\n",
       "    .dataframe tbody tr th:only-of-type {\n",
       "        vertical-align: middle;\n",
       "    }\n",
       "\n",
       "    .dataframe tbody tr th {\n",
       "        vertical-align: top;\n",
       "    }\n",
       "\n",
       "    .dataframe thead th {\n",
       "        text-align: right;\n",
       "    }\n",
       "</style>\n",
       "<table border=\"1\" class=\"dataframe\">\n",
       "  <thead>\n",
       "    <tr style=\"text-align: right;\">\n",
       "      <th></th>\n",
       "      <th>img_name</th>\n",
       "      <th>path</th>\n",
       "      <th>description</th>\n",
       "    </tr>\n",
       "  </thead>\n",
       "  <tbody>\n",
       "    <tr>\n",
       "      <th>0</th>\n",
       "      <td>image_855.jpeg</td>\n",
       "      <td>/mnt/workspace/JCLIP/Dataset/TestSetA/image_85...</td>\n",
       "      <td>None</td>\n",
       "    </tr>\n",
       "    <tr>\n",
       "      <th>1</th>\n",
       "      <td>image_2480.jpg</td>\n",
       "      <td>/mnt/workspace/JCLIP/Dataset/TestSetA/image_24...</td>\n",
       "      <td>None</td>\n",
       "    </tr>\n",
       "    <tr>\n",
       "      <th>2</th>\n",
       "      <td>image_1008.jpg</td>\n",
       "      <td>/mnt/workspace/JCLIP/Dataset/TestSetA/image_10...</td>\n",
       "      <td>None</td>\n",
       "    </tr>\n",
       "    <tr>\n",
       "      <th>3</th>\n",
       "      <td>image_1230.jpg</td>\n",
       "      <td>/mnt/workspace/JCLIP/Dataset/TestSetA/image_12...</td>\n",
       "      <td>None</td>\n",
       "    </tr>\n",
       "    <tr>\n",
       "      <th>4</th>\n",
       "      <td>image_1229.jpeg</td>\n",
       "      <td>/mnt/workspace/JCLIP/Dataset/TestSetA/image_12...</td>\n",
       "      <td>None</td>\n",
       "    </tr>\n",
       "    <tr>\n",
       "      <th>...</th>\n",
       "      <td>...</td>\n",
       "      <td>...</td>\n",
       "      <td>...</td>\n",
       "    </tr>\n",
       "    <tr>\n",
       "      <th>3068</th>\n",
       "      <td>image_2225.jpg</td>\n",
       "      <td>/mnt/workspace/JCLIP/Dataset/TestSetA/image_22...</td>\n",
       "      <td>None</td>\n",
       "    </tr>\n",
       "    <tr>\n",
       "      <th>3069</th>\n",
       "      <td>image_896.jpg</td>\n",
       "      <td>/mnt/workspace/JCLIP/Dataset/TestSetA/image_89...</td>\n",
       "      <td>None</td>\n",
       "    </tr>\n",
       "    <tr>\n",
       "      <th>3070</th>\n",
       "      <td>image_323.jpg</td>\n",
       "      <td>/mnt/workspace/JCLIP/Dataset/TestSetA/image_32...</td>\n",
       "      <td>None</td>\n",
       "    </tr>\n",
       "    <tr>\n",
       "      <th>3071</th>\n",
       "      <td>image_1663.jpg</td>\n",
       "      <td>/mnt/workspace/JCLIP/Dataset/TestSetA/image_16...</td>\n",
       "      <td>None</td>\n",
       "    </tr>\n",
       "    <tr>\n",
       "      <th>3072</th>\n",
       "      <td>image_2959.jpeg</td>\n",
       "      <td>/mnt/workspace/JCLIP/Dataset/TestSetA/image_29...</td>\n",
       "      <td>None</td>\n",
       "    </tr>\n",
       "  </tbody>\n",
       "</table>\n",
       "<p>3073 rows × 3 columns</p>\n",
       "</div>"
      ],
      "text/plain": [
       "             img_name                                               path  \\\n",
       "0      image_855.jpeg  /mnt/workspace/JCLIP/Dataset/TestSetA/image_85...   \n",
       "1      image_2480.jpg  /mnt/workspace/JCLIP/Dataset/TestSetA/image_24...   \n",
       "2      image_1008.jpg  /mnt/workspace/JCLIP/Dataset/TestSetA/image_10...   \n",
       "3      image_1230.jpg  /mnt/workspace/JCLIP/Dataset/TestSetA/image_12...   \n",
       "4     image_1229.jpeg  /mnt/workspace/JCLIP/Dataset/TestSetA/image_12...   \n",
       "...               ...                                                ...   \n",
       "3068   image_2225.jpg  /mnt/workspace/JCLIP/Dataset/TestSetA/image_22...   \n",
       "3069    image_896.jpg  /mnt/workspace/JCLIP/Dataset/TestSetA/image_89...   \n",
       "3070    image_323.jpg  /mnt/workspace/JCLIP/Dataset/TestSetA/image_32...   \n",
       "3071   image_1663.jpg  /mnt/workspace/JCLIP/Dataset/TestSetA/image_16...   \n",
       "3072  image_2959.jpeg  /mnt/workspace/JCLIP/Dataset/TestSetA/image_29...   \n",
       "\n",
       "     description  \n",
       "0           None  \n",
       "1           None  \n",
       "2           None  \n",
       "3           None  \n",
       "4           None  \n",
       "...          ...  \n",
       "3068        None  \n",
       "3069        None  \n",
       "3070        None  \n",
       "3071        None  \n",
       "3072        None  \n",
       "\n",
       "[3073 rows x 3 columns]"
      ]
     },
     "execution_count": 7,
     "metadata": {},
     "output_type": "execute_result"
    }
   ],
   "source": [
    "test_label"
   ]
  },
  {
   "cell_type": "code",
   "execution_count": 8,
   "id": "ba1d00e9-e9bb-4859-b7a9-1dde9e160453",
   "metadata": {
    "execution": {
     "iopub.execute_input": "2024-08-01T07:13:43.125522Z",
     "iopub.status.busy": "2024-08-01T07:13:43.125062Z",
     "iopub.status.idle": "2024-08-01T07:13:43.133376Z",
     "shell.execute_reply": "2024-08-01T07:13:43.132675Z",
     "shell.execute_reply.started": "2024-08-01T07:13:43.125498Z"
    },
    "tags": []
   },
   "outputs": [],
   "source": [
    "class AverageMeter(object):\n",
    "    \"\"\"Computes and stores the average and current value\"\"\"\n",
    "\n",
    "    def __init__(self, name, fmt=':f'):\n",
    "        self.name = name\n",
    "        self.fmt = fmt\n",
    "        self.reset()\n",
    "\n",
    "    def reset(self):\n",
    "        self.val = 0\n",
    "        self.avg = 0\n",
    "        self.sum = 0\n",
    "        self.count = 0\n",
    "\n",
    "    def update(self, val, n=1):\n",
    "        self.val = val\n",
    "        self.sum += val * n\n",
    "        self.count += n\n",
    "        self.avg = self.sum / self.count\n",
    "\n",
    "    def __str__(self):\n",
    "        fmtstr = '{name} {val' + self.fmt + '} ({avg' + self.fmt + '})'\n",
    "        return fmtstr.format(**self.__dict__)\n",
    "\n",
    "\n",
    "class ProgressMeter(object):\n",
    "    def __init__(self, num_batches, *meters):\n",
    "        self.batch_fmtstr = self._get_batch_fmtstr(num_batches)\n",
    "        self.meters = meters\n",
    "        self.prefix = \"\"\n",
    "\n",
    "    def pr2int(self, batch):\n",
    "        entries = [self.prefix + self.batch_fmtstr.format(batch)]\n",
    "        entries += [str(meter) for meter in self.meters]\n",
    "        print('\\t'.join(entries))\n",
    "\n",
    "    def _get_batch_fmtstr(self, num_batches):\n",
    "        num_digits = len(str(num_batches // 1))\n",
    "        fmt = '{:' + str(num_digits) + 'd}'\n",
    "        return '[' + fmt + '/' + fmt.format(num_batches) + ']'"
   ]
  },
  {
   "cell_type": "code",
   "execution_count": 9,
   "id": "fe9fb711-5f5e-46e9-887c-d6e0e8562d2e",
   "metadata": {
    "ExecutionIndicator": {
     "show": false
    },
    "execution": {
     "iopub.execute_input": "2024-08-01T07:13:43.134790Z",
     "iopub.status.busy": "2024-08-01T07:13:43.134549Z",
     "iopub.status.idle": "2024-08-01T07:13:43.154324Z",
     "shell.execute_reply": "2024-08-01T07:13:43.153626Z",
     "shell.execute_reply.started": "2024-08-01T07:13:43.134769Z"
    },
    "tags": []
   },
   "outputs": [],
   "source": [
    "def validate(val_loader, model, preprocess, loss_img, text_features, bs_value):\n",
    "    batch_time = AverageMeter('Time', ':6.3f')\n",
    "    losses = AverageMeter('Loss', ':.4e')\n",
    "    top1 = AverageMeter('Acc@1', ':6.2f')\n",
    "    batch_num = int(len(val_loader) / bs_value)\n",
    "    progress = ProgressMeter(batch_num, batch_time, losses, top1)\n",
    "\n",
    "\n",
    "    with jt.no_grad():\n",
    "        end = time.time()\n",
    "        for i, (imgs, target, description) in tqdm(enumerate(val_loader), total=batch_num):\n",
    "            # img [1, 224, 224, 3]  但是用不着\n",
    "\n",
    "            # 将 NumPy 数组转换为 PIL 图像并进行预处理\n",
    "            images = [Image.fromarray(img_np) for img_np in imgs.numpy()]\n",
    "\n",
    "\n",
    "            # 预处理图像\n",
    "            images_preprocessed = jt.cat([preprocess(image).unsqueeze(0) for image in images], dim=0)\n",
    "            images_preprocessed = jt.misc.to(images_preprocessed, 'cuda')\n",
    "            \n",
    "            images_clip_features = model.encode_image(images_preprocessed)\n",
    "            # [batch_size, 512]\n",
    "            images_clip_features /= images_clip_features.norm(dim=-1, keepdim=True)\n",
    "\n",
    "            target = jt.misc.to(target, 'cuda')\n",
    "\n",
    "            # compute output\n",
    "            text_probs = (100.0 *\n",
    "                  images_clip_features @ text_features.transpose(0, 1)).softmax(\n",
    "                      dim=-1)\n",
    "\n",
    "            loss = loss_img(text_probs, target)\n",
    "            # measure accuracy and record loss\n",
    "            losses.update(loss.item(), imgs.size(0))\n",
    "\n",
    "            # measure accuracy and record loss\n",
    "            acc = (text_probs.argmax(1)[0].view(-1) == target.float().view(-1)).float().mean() * 100\n",
    "            top1.update(acc, n=imgs.size(0))\n",
    "            \n",
    "            \n",
    "            # measure elapsed time\n",
    "            batch_time.update(time.time() - end)\n",
    "            end = time.time()\n",
    "\n",
    "        # TODO: this should also be done with the ProgressMeter\n",
    "        print(' * Acc@1 {top1.avg:.3f}'\n",
    "              .format(top1=top1))\n",
    "\n",
    "        return top1\n",
    "\n",
    "\n",
    "def predict(test_label, model, preprocess, text_features, tta=10):\n",
    "\n",
    "\n",
    "    test_num = len(test_label)\n",
    "\n",
    "    test_pred_tta = None\n",
    "    for _ in range(tta):\n",
    "        test_pred = []\n",
    "        with jt.no_grad():\n",
    "            end = time.time()\n",
    "            for i in tqdm(range(test_num), total=test_num):\n",
    "\n",
    "                img_path = test_label['path'][i]\n",
    "                image = Image.open(img_path)\n",
    "                image = preprocess(image).unsqueeze(0)\n",
    "\n",
    "                image_features = model.encode_image(image)\n",
    "                image_features /= image_features.norm(dim=-1, keepdim=True)\n",
    "\n",
    "                # compute output\n",
    "                output = (100.0 *\n",
    "                      image_features @ text_features.transpose(0, 1)).softmax(\n",
    "                          dim=-1)\n",
    "\n",
    "                output = nn.softmax(output, dim=1)\n",
    "                output = output.numpy()\n",
    "\n",
    "                test_pred.append(output)\n",
    "        test_pred = np.vstack(test_pred)\n",
    "\n",
    "        if test_pred_tta is None:\n",
    "            test_pred_tta = test_pred\n",
    "        else:\n",
    "            test_pred_tta += test_pred\n",
    "\n",
    "    return test_pred_tta\n",
    "\n",
    "\n",
    "def train(train_loader, model, preprocess, loss_img, loss_txt, optimizer, bs_value):\n",
    "    batch_time = AverageMeter('Time', ':6.3f')\n",
    "    losses = AverageMeter('Loss', ':.4e')\n",
    "    top1 = AverageMeter('Acc@1', ':6.2f')\n",
    "    top1_text = AverageMeter('Acc@1', ':6.2f')\n",
    "\n",
    "    # jittor的len(train_loader)不会随着batch_size的变化而改变\n",
    "    # 永远都是1496\n",
    "    batch_num = int(len(train_loader) / bs_value)\n",
    "    progress = ProgressMeter(batch_num, batch_time, losses, top1)\n",
    "\n",
    "    # switch to train mode\n",
    "    model.train()\n",
    "\n",
    "    end = time.time()\n",
    "    for i, (imgs, target, description) in enumerate(train_loader):\n",
    "        # img [1, 224, 224, 3]  但是用不着\n",
    "\n",
    "        # 将 NumPy 数组转换为 PIL 图像并进行预处理\n",
    "        images = [Image.fromarray(img_np) for img_np in imgs.numpy()]\n",
    "\n",
    "\n",
    "        # 预处理图像\n",
    "        images_preprocessed = jt.cat([preprocess(image).unsqueeze(0) for image in images], dim=0)\n",
    "        images_preprocessed = jt.misc.to(images_preprocessed, 'cuda')\n",
    "\n",
    "        # 描述\n",
    "        description = clip.tokenize(description)\n",
    "        description = jt.misc.to(description, 'cuda')\n",
    "\n",
    "        logits_per_image, logits_per_text = model(images_preprocessed, description)\n",
    "\n",
    "        ground_truth = jt.arange(len(images_preprocessed),dtype=jt.float32).cuda()\n",
    "\n",
    "        loss = (loss_img(logits_per_image, ground_truth) + loss_txt(logits_per_text, ground_truth)) / 2\n",
    "        # measure accuracy and record loss\n",
    "        losses.update(loss.item(), imgs.size(0))\n",
    "\n",
    "        # measure accuracy and record loss\n",
    "        acc = (logits_per_image.argmax(1)[0].view(-1) == ground_truth.float().view(-1)).float().mean() * 100\n",
    "        acc_text = (logits_per_text.argmax(1)[0].view(-1) == ground_truth.float().view(-1)).float().mean() * 100\n",
    "        top1.update(acc, n=imgs.size(0))\n",
    "        top1_text.update(acc_text, n=imgs.size(0))\n",
    "\n",
    "        optimizer.zero_grad()\n",
    "        optimizer.backward(loss)\n",
    "        optimizer.step()\n",
    "\n",
    "        # measure elapsed time\n",
    "        batch_time.update(time.time() - end)\n",
    "        end = time.time()\n",
    "\n",
    "        if i % 16 == 0:\n",
    "            progress.pr2int(i)\n",
    "            print(' * Acc_text@1 {top1_text.avg:.3f}'\n",
    "                  .format(top1_text=top1_text))\n",
    "    return top1\n"
   ]
  },
  {
   "cell_type": "code",
   "execution_count": 15,
   "id": "0259c946-5ff9-4d7c-8550-e3a3053d6715",
   "metadata": {
    "ExecutionIndicator": {
     "show": false
    },
    "execution": {
     "iopub.execute_input": "2024-08-01T07:16:35.101940Z",
     "iopub.status.busy": "2024-08-01T07:16:35.101437Z",
     "iopub.status.idle": "2024-08-01T07:16:35.105880Z",
     "shell.execute_reply": "2024-08-01T07:16:35.104917Z",
     "shell.execute_reply.started": "2024-08-01T07:16:35.101910Z"
    },
    "tags": []
   },
   "outputs": [],
   "source": [
    "# parameter\n",
    "epoch_num = 32\n",
    "bs_value = 4"
   ]
  },
  {
   "cell_type": "code",
   "execution_count": 16,
   "id": "e929da42-2c5d-4250-b4f1-396bf80b2d15",
   "metadata": {
    "ExecutionIndicator": {
     "show": true
    },
    "execution": {
     "iopub.execute_input": "2024-08-01T07:16:35.300018Z",
     "iopub.status.busy": "2024-08-01T07:16:35.299546Z",
     "iopub.status.idle": "2024-08-01T07:16:35.306894Z",
     "shell.execute_reply": "2024-08-01T07:16:35.305787Z",
     "shell.execute_reply.started": "2024-08-01T07:16:35.299988Z"
    },
    "tags": []
   },
   "outputs": [],
   "source": [
    "train_trans = transform.Compose([\n",
    "                transform.Resize((224, 224)),\n",
    "                transform.RandomRotation(degrees=180),\n",
    "                transform.ColorJitter(0.5),\n",
    "                transform.RandomHorizontalFlip(),\n",
    "                transform.RandomVerticalFlip(),\n",
    "                # transform.ToTensor(),\n",
    "                # transform.ImageNormalize([0.485, 0.456, 0.406], [0.229, 0.224, 0.225])\n",
    "        ])\n",
    "val_trans = transform.Compose([\n",
    "                transform.Resize((224, 224)),\n",
    "                # transform.ToTensor(),\n",
    "                # transform.ImageNormalize([0.485, 0.456, 0.406], [0.229, 0.224, 0.225])\n",
    "        ])\n",
    "train_dataset = TripleDataset(train_label['path'], train_label['target'], train_label['description'], train_trans).set_attrs(batch_size=bs_value, shuffle=True)\n",
    "val_dataset = TripleDataset(val_label['path'], val_label['target'], val_label['description'], val_trans).set_attrs(batch_size=bs_value, shuffle=False)\n",
    "train_loader = DataLoader(train_dataset)\n",
    "val_loader = DataLoader(val_dataset)\n"
   ]
  },
  {
   "cell_type": "code",
   "execution_count": 17,
   "id": "37eb3da7-e0da-4af2-a785-b8a0ee8452fc",
   "metadata": {
    "execution": {
     "iopub.execute_input": "2024-08-01T07:16:35.681187Z",
     "iopub.status.busy": "2024-08-01T07:16:35.680696Z",
     "iopub.status.idle": "2024-08-01T07:16:35.690024Z",
     "shell.execute_reply": "2024-08-01T07:16:35.689264Z",
     "shell.execute_reply.started": "2024-08-01T07:16:35.681137Z"
    },
    "tags": []
   },
   "outputs": [],
   "source": [
    "def process_textfeatures(model_clip):\n",
    "    # 加载clip\n",
    "\n",
    "\n",
    "    classes = open('/mnt/workspace/JCLIP/Dataset/classes.txt').read().splitlines()\n",
    "    # remove the prefix Animal, Thu-dog, Caltech-101, Food-101\n",
    "\n",
    "    new_classes1 = []\n",
    "    new_classes2 = []\n",
    "    for c in classes:\n",
    "        c = c.split(' ')[0]\n",
    "        if c.startswith('Animal'):\n",
    "            c = c[7:]\n",
    "            c1 = 'A photo of ' + c.lower().replace('_', ' ') + ', a type of animal'\n",
    "            c2 = 'A photo animal of ' + c.lower().replace('_', ' ') #+ '.'\n",
    "        if c.startswith('Thu-dog'):\n",
    "            c = c[8:]\n",
    "            c1 = 'A photo of ' + c.lower().replace('_', ' ') + ', a type of dog'\n",
    "            c2 = 'A photo dog of ' + c.lower().replace('_', ' ') #+ '.'\n",
    "        if c.startswith('Caltech-101'):\n",
    "            c = c[12:]\n",
    "            c1 = 'A photo of ' + c.lower().replace('_', ' ')\n",
    "            c2 = 'A photo of ' + c.lower().replace('_', ' ') #+ '.'\n",
    "        if c.startswith('Food-101'):\n",
    "            c = c[9:]\n",
    "            c1 = 'A photo of ' + c.lower().replace('_', ' ') + ', a type of food'\n",
    "            c2 = 'A photo food of ' + c.lower().replace('_', ' ') #+ '.'\n",
    "        new_classes1.append(c1)\n",
    "        new_classes2.append(c2)\n",
    "\n",
    "    text1 = clip.tokenize(new_classes1)\n",
    "    text2 = clip.tokenize(new_classes2)\n",
    "\n",
    "\n",
    "    text_features1 = model_clip.encode_text(text1)\n",
    "    text_features1 /= text_features1.norm(dim=-1, keepdim=True)\n",
    "\n",
    "    text_features2 = model_clip.encode_text(text2)\n",
    "    text_features2 /= text_features2.norm(dim=-1, keepdim=True)\n",
    "\n",
    "    text_features = (text_features1 + text_features2) / 2.\n",
    "    text_features /= text_features.norm(dim=-1, keepdim=True)\n",
    "    return text_features"
   ]
  },
  {
   "cell_type": "markdown",
   "id": "843c22db-b01d-4b3a-bba5-bbd0b0aaf474",
   "metadata": {},
   "source": [
    "# 模型加载"
   ]
  },
  {
   "cell_type": "code",
   "execution_count": 18,
   "id": "f95bbe78-ae8f-4eb5-b8ed-ef1d7fab6a3c",
   "metadata": {
    "ExecutionIndicator": {
     "show": true
    },
    "execution": {
     "iopub.execute_input": "2024-08-01T07:16:36.623069Z",
     "iopub.status.busy": "2024-08-01T07:16:36.622600Z",
     "iopub.status.idle": "2024-08-01T07:16:38.792997Z",
     "shell.execute_reply": "2024-08-01T07:16:38.792276Z",
     "shell.execute_reply.started": "2024-08-01T07:16:36.623040Z"
    },
    "tags": []
   },
   "outputs": [
    {
     "name": "stdout",
     "output_type": "stream",
     "text": [
      "创建完毕\n",
      "使用hugging face预训练模型\n"
     ]
    }
   ],
   "source": [
    "model_path = \"../models_pkl/clip_ft/clip_ft_Epoch.pkl\"\n",
    "# 加载clip\n",
    "model_clip, preprocess = clip.load(\"/mnt/workspace/JCLIP/ViT-B-32.pkl\")\n",
    "model_clip.cuda()\n",
    "print('创建完毕')\n",
    "\n",
    "if os.path.exists(model_path):\n",
    "    model_clip.load(model_path)\n",
    "    print(\"使用以往的模型继续训练\")\n",
    "else:\n",
    "    print(\"使用hugging face预训练模型\")"
   ]
  },
  {
   "cell_type": "code",
   "execution_count": 19,
   "id": "5475780b-8372-45cc-841b-184735f9b6e1",
   "metadata": {
    "ExecutionIndicator": {
     "show": false
    },
    "execution": {
     "iopub.execute_input": "2024-08-01T07:16:38.794978Z",
     "iopub.status.busy": "2024-08-01T07:16:38.794491Z",
     "iopub.status.idle": "2024-08-01T07:21:16.660439Z",
     "shell.execute_reply": "2024-08-01T07:21:16.659484Z",
     "shell.execute_reply.started": "2024-08-01T07:16:38.794951Z"
    },
    "tags": []
   },
   "outputs": [
    {
     "name": "stdout",
     "output_type": "stream",
     "text": [
      "Epoch:  0\n"
     ]
    },
    {
     "name": "stderr",
     "output_type": "stream",
     "text": [
      "\n",
      "Compiling Operators(2/6) used: 6.31s eta: 12.6s 4/6) used: 8.32s eta: 4.16s 6/6) used: 9.32s eta:    0s \n",
      "\n",
      "Compiling Operators(1/55) used: 8.31s eta:  449s 3/55) used: 9.32s eta:  162s 4/55) used: 10.3s eta:  132s 5/55) used: 11.3s eta:  113s 7/55) used: 12.4s eta: 84.7s 8/55) used: 13.4s eta: 78.5s 9/55) used: 18.4s eta: 93.9s 12/55) used: 21.4s eta: 76.6s 13/55) used: 22.4s eta: 72.3s 15/55) used: 23.4s eta: 62.4s 16/55) used: 25.4s eta: 61.9s 17/55) used: 29.4s eta: 65.8s 18/55) used: 30.4s eta: 62.6s 20/55) used: 31.4s eta:   55s 22/55) used: 32.5s eta: 48.7s 23/55) used: 33.5s eta: 46.6s 24/55) used: 35.5s eta: 45.8s 25/55) used: 36.5s eta: 43.8s 26/55) used: 37.5s eta: 41.8s 27/55) used: 40.5s eta:   42s 29/55) used: 42.5s eta: 38.1s 30/55) used: 44.5s eta: 37.1s 31/55) used: 46.6s eta:   36s 32/55) used: 47.6s eta: 34.2s 33/55) used: 48.6s eta: 32.4s 34/55) used: 51.6s eta: 31.9s 35/55) used: 53.6s eta: 30.6s 36/55) used: 54.6s eta: 28.8s 39/55) used: 55.6s eta: 22.8s 41/55) used: 56.6s eta: 19.3s 42/55) used: 60.6s eta: 18.8s 43/55) used: 63.6s eta: 17.8s 44/55) used: 66.7s eta: 16.7s 45/55) used: 67.7s eta:   15s 46/55) used: 68.7s eta: 13.4s 49/55) used: 69.7s eta: 8.53s 51/55) used: 70.7s eta: 5.55s 52/55) used: 71.7s eta: 4.14s 54/55) used: 72.7s eta: 1.35s 55/55) used: 73.7s eta:    0s \n",
      "\n",
      "Compiling Operators(1/4) used: 5.31s eta: 15.9s 3/4) used: 7.32s eta: 2.44s 4/4) used: 9.32s eta:    0s \n",
      "\n",
      "Compiling Operators(1/1) used: 4.51s eta:    0s \n"
     ]
    },
    {
     "name": "stdout",
     "output_type": "stream",
     "text": [
      "[  0/374]\tTime 85.040 (85.040)\tLoss 2.9653e-01 (2.9653e-01)\tAcc@1 100.00 (100.00)\n",
      " * Acc_text@1 75.000\n",
      "Epoch:  1\n"
     ]
    },
    {
     "name": "stderr",
     "output_type": "stream",
     "text": [
      "\n",
      "Compiling Operators(1/65) used: 8.32s eta:  532s 2/65) used: 11.3s eta:  357s 3/65) used: 12.3s eta:  255s 4/65) used: 13.3s eta:  203s 6/65) used: 14.3s eta:  141s 9/65) used: 16.4s eta:  102s 10/65) used: 21.4s eta:  118s 11/65) used: 23.4s eta:  115s 12/65) used: 24.4s eta:  108s 13/65) used: 25.4s eta:  102s 14/65) used: 26.4s eta: 96.2s 16/65) used: 27.4s eta: 83.9s 19/65) used: 31.4s eta: 76.1s 20/65) used: 33.4s eta: 75.2s 21/65) used: 35.4s eta: 74.2s 22/65) used: 37.5s eta: 73.2s 23/65) used: 38.5s eta: 70.2s 24/65) used: 39.5s eta: 67.4s 25/65) used: 40.5s eta: 64.8s 26/65) used: 43.5s eta: 65.2s 27/65) used: 44.5s eta: 62.6s 30/65) used: 46.5s eta: 54.3s 31/65) used: 47.5s eta: 52.1s 32/65) used: 50.5s eta: 52.1s 33/65) used: 51.6s eta:   50s 34/65) used: 52.6s eta: 47.9s 35/65) used: 53.6s eta: 45.9s 38/65) used: 57.6s eta: 40.9s 39/65) used: 58.6s eta: 39.1s 41/65) used: 62.6s eta: 36.6s 43/65) used: 63.6s eta: 32.5s 44/65) used: 66.6s eta: 31.8s 46/65) used: 67.6s eta: 27.9s 48/65) used: 69.7s eta: 24.7s 49/65) used: 70.7s eta: 23.1s 50/65) used: 74.7s eta: 22.4s 52/65) used: 75.7s eta: 18.9s 53/65) used: 77.7s eta: 17.6s 55/65) used: 80.7s eta: 14.7s 57/65) used: 81.7s eta: 11.5s 58/65) used: 83.7s eta: 10.1s 59/65) used: 84.7s eta: 8.62s 61/65) used: 85.7s eta: 5.62s 63/65) used: 86.7s eta: 2.75s 64/65) used: 89.8s eta:  1.4s 65/65) used: 92.8s eta:    0s \n",
      "\u001b[38;5;3m[w 0801 15:19:51.375727 08 grad.cc:81] grads[155] 'transformer.resblocks.10.attn_mask' doesn't have gradient. It will be set to zero: Var(48820:1:1:1:i0:o0:s1:n0:g1,float32,transformer.resblocks.10.attn_mask,7fd996edb000)[77,77,]\u001b[m\n"
     ]
    },
    {
     "name": "stdout",
     "output_type": "stream",
     "text": [
      "[  0/374]\tTime 93.701 (93.701)\tLoss 1.2684e-03 (1.2684e-03)\tAcc@1 100.00 (100.00)\n",
      " * Acc_text@1 100.000\n",
      "Epoch:  2\n",
      "[  0/374]\tTime  0.138 ( 0.138)\tLoss 3.5282e-01 (3.5282e-01)\tAcc@1  75.00 ( 75.00)\n",
      " * Acc_text@1 100.000\n",
      "Epoch:  3\n",
      "[  0/374]\tTime  0.147 ( 0.147)\tLoss 7.0714e-02 (7.0714e-02)\tAcc@1 100.00 (100.00)\n",
      " * Acc_text@1 100.000\n"
     ]
    },
    {
     "name": "stderr",
     "output_type": "stream",
     "text": [
      "\n",
      "Compiling Operators(1/3) used: 5.31s eta: 10.6s 3/3) used: 6.32s eta:    0s \n",
      "\n",
      "Compiling Operators(1/5) used: 6.31s eta: 25.2s 3/5) used: 7.32s eta: 4.88s 5/5) used: 8.33s eta:    0s \n",
      "\n",
      "Compiling Operators(2/2) used: 5.31s eta:    0s \n",
      "\n",
      "Compiling Operators(1/1) used: 4.72s eta:    0s \n",
      "\n",
      "Compiling Operators(1/1) used: 4.86s eta:    0s \n",
      "\n",
      "Compiling Operators(1/1) used: 4.88s eta:    0s \n"
     ]
    },
    {
     "name": "stdout",
     "output_type": "stream",
     "text": [
      "Epoch:  4\n",
      "[  0/374]\tTime  0.222 ( 0.222)\tLoss 5.5615e-04 (5.5615e-04)\tAcc@1 100.00 (100.00)\n",
      " * Acc_text@1 100.000\n",
      "Epoch:  5\n",
      "[  0/374]\tTime  0.170 ( 0.170)\tLoss 2.5673e-05 (2.5673e-05)\tAcc@1 100.00 (100.00)\n",
      " * Acc_text@1 100.000\n",
      "Epoch:  6\n",
      "[  0/374]\tTime  0.139 ( 0.139)\tLoss 2.4386e-01 (2.4386e-01)\tAcc@1 100.00 (100.00)\n",
      " * Acc_text@1 75.000\n",
      "Epoch:  7\n",
      "[  0/374]\tTime  0.170 ( 0.170)\tLoss 5.3864e-03 (5.3864e-03)\tAcc@1 100.00 (100.00)\n",
      " * Acc_text@1 100.000\n",
      "Epoch:  8\n",
      "[  0/374]\tTime  0.217 ( 0.217)\tLoss 1.5821e-01 (1.5821e-01)\tAcc@1  75.00 ( 75.00)\n",
      " * Acc_text@1 100.000\n",
      "Epoch:  9\n",
      "[  0/374]\tTime  0.173 ( 0.173)\tLoss 2.1968e-02 (2.1968e-02)\tAcc@1 100.00 (100.00)\n",
      " * Acc_text@1 100.000\n",
      "Epoch:  10\n",
      "[  0/374]\tTime  0.190 ( 0.190)\tLoss 8.7901e-02 (8.7901e-02)\tAcc@1 100.00 (100.00)\n",
      " * Acc_text@1 100.000\n",
      "Epoch:  11\n",
      "[  0/374]\tTime  0.187 ( 0.187)\tLoss 9.2138e-01 (9.2138e-01)\tAcc@1  50.00 ( 50.00)\n",
      " * Acc_text@1 75.000\n",
      "Epoch:  12\n",
      "[  0/374]\tTime  2.044 ( 2.044)\tLoss 2.9004e-02 (2.9004e-02)\tAcc@1 100.00 (100.00)\n",
      " * Acc_text@1 100.000\n",
      "Epoch:  13\n",
      "[  0/374]\tTime  0.145 ( 0.145)\tLoss 8.0199e-02 (8.0199e-02)\tAcc@1 100.00 (100.00)\n",
      " * Acc_text@1 100.000\n",
      "Epoch:  14\n",
      "[  0/374]\tTime  0.139 ( 0.139)\tLoss 1.3263e-01 (1.3263e-01)\tAcc@1 100.00 (100.00)\n",
      " * Acc_text@1 75.000\n",
      "Epoch:  15\n",
      "[  0/374]\tTime  0.141 ( 0.141)\tLoss 3.3884e-01 (3.3884e-01)\tAcc@1 100.00 (100.00)\n",
      " * Acc_text@1 75.000\n",
      "Epoch:  16\n",
      "[  0/374]\tTime  0.222 ( 0.222)\tLoss 2.4644e-03 (2.4644e-03)\tAcc@1 100.00 (100.00)\n",
      " * Acc_text@1 100.000\n",
      "Epoch:  17\n",
      "[  0/374]\tTime  0.143 ( 0.143)\tLoss 4.7239e-01 (4.7239e-01)\tAcc@1  75.00 ( 75.00)\n",
      " * Acc_text@1 50.000\n",
      "Epoch:  18\n",
      "[  0/374]\tTime  0.166 ( 0.166)\tLoss 8.4797e-04 (8.4797e-04)\tAcc@1 100.00 (100.00)\n",
      " * Acc_text@1 100.000\n",
      "Epoch:  19\n",
      "[  0/374]\tTime  0.144 ( 0.144)\tLoss 2.1131e-02 (2.1131e-02)\tAcc@1 100.00 (100.00)\n",
      " * Acc_text@1 100.000\n",
      "Epoch:  20\n",
      "[  0/374]\tTime  0.205 ( 0.205)\tLoss 3.0164e-01 (3.0164e-01)\tAcc@1 100.00 (100.00)\n",
      " * Acc_text@1 75.000\n",
      "Epoch:  21\n",
      "[  0/374]\tTime  0.160 ( 0.160)\tLoss 2.2643e-01 (2.2643e-01)\tAcc@1 100.00 (100.00)\n",
      " * Acc_text@1 75.000\n",
      "Epoch:  22\n",
      "[  0/374]\tTime  0.142 ( 0.142)\tLoss 3.7589e-03 (3.7589e-03)\tAcc@1 100.00 (100.00)\n",
      " * Acc_text@1 100.000\n",
      "Epoch:  23\n",
      "[  0/374]\tTime  0.156 ( 0.156)\tLoss 2.2724e-01 (2.2724e-01)\tAcc@1  75.00 ( 75.00)\n",
      " * Acc_text@1 100.000\n",
      "Epoch:  24\n",
      "[  0/374]\tTime  0.202 ( 0.202)\tLoss 2.7206e-01 (2.7206e-01)\tAcc@1 100.00 (100.00)\n",
      " * Acc_text@1 75.000\n",
      "Epoch:  25\n",
      "[  0/374]\tTime  0.131 ( 0.131)\tLoss 2.9190e-02 (2.9190e-02)\tAcc@1 100.00 (100.00)\n",
      " * Acc_text@1 100.000\n",
      "Epoch:  26\n",
      "[  0/374]\tTime  0.125 ( 0.125)\tLoss 1.4557e-01 (1.4557e-01)\tAcc@1  75.00 ( 75.00)\n",
      " * Acc_text@1 100.000\n",
      "Epoch:  27\n",
      "[  0/374]\tTime  0.144 ( 0.144)\tLoss 2.3348e-01 (2.3348e-01)\tAcc@1  75.00 ( 75.00)\n",
      " * Acc_text@1 75.000\n",
      "Epoch:  28\n",
      "[  0/374]\tTime  0.214 ( 0.214)\tLoss 7.0979e-01 (7.0979e-01)\tAcc@1  75.00 ( 75.00)\n",
      " * Acc_text@1 75.000\n",
      "Epoch:  29\n",
      "[  0/374]\tTime  0.142 ( 0.142)\tLoss 3.3723e-02 (3.3723e-02)\tAcc@1 100.00 (100.00)\n",
      " * Acc_text@1 100.000\n",
      "Epoch:  30\n",
      "[  0/374]\tTime  0.127 ( 0.127)\tLoss 5.5665e-02 (5.5665e-02)\tAcc@1 100.00 (100.00)\n",
      " * Acc_text@1 100.000\n",
      "Epoch:  31\n",
      "[  0/374]\tTime  0.135 ( 0.135)\tLoss 3.8543e-03 (3.8543e-03)\tAcc@1 100.00 (100.00)\n",
      " * Acc_text@1 100.000\n",
      "Epoch:  32\n",
      "[  0/374]\tTime  0.200 ( 0.200)\tLoss 6.1415e-02 (6.1415e-02)\tAcc@1 100.00 (100.00)\n",
      " * Acc_text@1 100.000\n",
      "Epoch:  33\n",
      "[  0/374]\tTime  0.121 ( 0.121)\tLoss 1.2103e-01 (1.2103e-01)\tAcc@1 100.00 (100.00)\n",
      " * Acc_text@1 100.000\n",
      "Epoch:  34\n",
      "[  0/374]\tTime  0.210 ( 0.210)\tLoss 3.0634e-01 (3.0634e-01)\tAcc@1 100.00 (100.00)\n",
      " * Acc_text@1 75.000\n",
      "Epoch:  35\n",
      "[  0/374]\tTime  0.125 ( 0.125)\tLoss 5.4659e-02 (5.4659e-02)\tAcc@1 100.00 (100.00)\n",
      " * Acc_text@1 100.000\n",
      "Epoch:  36\n",
      "[  0/374]\tTime  0.201 ( 0.201)\tLoss 5.4477e-01 (5.4477e-01)\tAcc@1  75.00 ( 75.00)\n",
      " * Acc_text@1 75.000\n",
      "Epoch:  37\n",
      "[  0/374]\tTime  0.159 ( 0.159)\tLoss 8.5365e-02 (8.5365e-02)\tAcc@1 100.00 (100.00)\n",
      " * Acc_text@1 100.000\n",
      "Epoch:  38\n",
      "[  0/374]\tTime  0.197 ( 0.197)\tLoss 6.6609e-01 (6.6609e-01)\tAcc@1  75.00 ( 75.00)\n",
      " * Acc_text@1 75.000\n",
      "Epoch:  39\n",
      "[  0/374]\tTime  0.255 ( 0.255)\tLoss 3.2172e-03 (3.2172e-03)\tAcc@1 100.00 (100.00)\n",
      " * Acc_text@1 100.000\n",
      "Epoch:  40\n",
      "[  0/374]\tTime  0.400 ( 0.400)\tLoss 3.7496e-01 (3.7496e-01)\tAcc@1  75.00 ( 75.00)\n",
      " * Acc_text@1 100.000\n",
      "Epoch:  41\n",
      "[  0/374]\tTime  0.168 ( 0.168)\tLoss 4.9122e-01 (4.9122e-01)\tAcc@1 100.00 (100.00)\n",
      " * Acc_text@1 75.000\n",
      "Epoch:  42\n",
      "[  0/374]\tTime  0.192 ( 0.192)\tLoss 1.3612e-01 (1.3612e-01)\tAcc@1 100.00 (100.00)\n",
      " * Acc_text@1 75.000\n",
      "Epoch:  43\n",
      "[  0/374]\tTime  0.178 ( 0.178)\tLoss 3.9802e-04 (3.9802e-04)\tAcc@1 100.00 (100.00)\n",
      " * Acc_text@1 100.000\n",
      "Epoch:  44\n",
      "[  0/374]\tTime  0.255 ( 0.255)\tLoss 2.9870e-02 (2.9870e-02)\tAcc@1 100.00 (100.00)\n",
      " * Acc_text@1 100.000\n",
      "Epoch:  45\n",
      "[  0/374]\tTime  0.197 ( 0.197)\tLoss 4.6459e-02 (4.6459e-02)\tAcc@1 100.00 (100.00)\n",
      " * Acc_text@1 100.000\n",
      "Epoch:  46\n",
      "[  0/374]\tTime  0.125 ( 0.125)\tLoss 2.1012e-01 (2.1012e-01)\tAcc@1 100.00 (100.00)\n",
      " * Acc_text@1 75.000\n",
      "Epoch:  47\n",
      "[  0/374]\tTime  0.131 ( 0.131)\tLoss 1.0342e-03 (1.0342e-03)\tAcc@1 100.00 (100.00)\n",
      " * Acc_text@1 100.000\n",
      "Epoch:  48\n",
      "[  0/374]\tTime  0.204 ( 0.204)\tLoss 4.9691e-01 (4.9691e-01)\tAcc@1  75.00 ( 75.00)\n",
      " * Acc_text@1 75.000\n",
      "Epoch:  49\n",
      "[  0/374]\tTime  0.156 ( 0.156)\tLoss 2.0046e-01 (2.0046e-01)\tAcc@1  75.00 ( 75.00)\n",
      " * Acc_text@1 100.000\n"
     ]
    }
   ],
   "source": [
    "# Params used from paper, the lr is smaller, more safe for fine tuning to new dataset\n",
    "optimizer = optim.Adam(model_clip.parameters(), lr=1e-8,betas=(0.9,0.98),eps=1e-6,weight_decay=0.001)\n",
    "scheduler = jt.lr_scheduler.StepLR(optimizer, step_size=4, gamma=0.85)\n",
    "# 创建损失函数\n",
    "loss_img = nn.CrossEntropyLoss().cuda()\n",
    "loss_txt = nn.CrossEntropyLoss().cuda()\n",
    "\n",
    "\n",
    "best_acc = 0.0\n",
    "acc_list = []\n",
    "for epoch in range(epoch_num):\n",
    "    scheduler.step()\n",
    "    print('Epoch: ', epoch)\n",
    "\n",
    "    train_acc = train(train_loader, model_clip, preprocess, loss_img, loss_txt, optimizer, bs_value)\n",
    "    # text_features = process_textfeatures(model_clip)\n",
    "    # val_acc = validate(val_loader, model_clip, preprocess, loss_img, text_features, bs_value)\n",
    "\n",
    "    # if train_acc.avg.item() > best_acc:\n",
    "    best_acc = round(train_acc.avg.item(), 2)\n",
    "    acc_list.append(best_acc)\n",
    "    if (epoch + 1) % 4 == 0:\n",
    "        model_clip.save(f'../models_pkl/clip_ft/clip_ft_Epoch{epoch}_{best_acc}.pkl')"
   ]
  },
  {
   "cell_type": "code",
   "execution_count": null,
   "id": "9c06cb94-97a2-489f-837e-aed072298871",
   "metadata": {
    "tags": []
   },
   "outputs": [],
   "source": [
    "acc_list"
   ]
  },
  {
   "cell_type": "code",
   "execution_count": 31,
   "id": "76523e76-da7f-43d4-a50d-6306059105c6",
   "metadata": {
    "ExecutionIndicator": {
     "show": true
    },
    "execution": {
     "iopub.execute_input": "2024-08-01T06:47:49.766654Z",
     "iopub.status.busy": "2024-08-01T06:47:49.766151Z",
     "iopub.status.idle": "2024-08-01T06:47:54.292168Z",
     "shell.execute_reply": "2024-08-01T06:47:54.291390Z",
     "shell.execute_reply.started": "2024-08-01T06:47:49.766618Z"
    },
    "tags": []
   },
   "outputs": [],
   "source": [
    "model_path = \"../models_pkl/clip_ft/clip_ft_Epoch27_0.0.pkl\"\n",
    "model_clip.load(model_path)"
   ]
  },
  {
   "cell_type": "code",
   "execution_count": 20,
   "id": "91a5375b-58d9-4e98-8aad-1d4a97b9f114",
   "metadata": {
    "ExecutionIndicator": {
     "show": true
    },
    "execution": {
     "iopub.execute_input": "2024-08-01T07:30:21.123665Z",
     "iopub.status.busy": "2024-08-01T07:30:21.123156Z",
     "iopub.status.idle": "2024-08-01T07:30:40.701013Z",
     "shell.execute_reply": "2024-08-01T07:30:40.700098Z",
     "shell.execute_reply.started": "2024-08-01T07:30:21.123635Z"
    },
    "tags": []
   },
   "outputs": [
    {
     "name": "stderr",
     "output_type": "stream",
     "text": [
      "  0%|          | 0/935 [00:00<?, ?it/s]\u001b[38;5;2m[i 0801 15:30:40.327773 08 cuda_device_allocator.cc:30] \n",
      "=== display_memory_info ===\n",
      " total_cpu_ram: 31.41GB total_device_ram: 15.78GB\n",
      " hold_vars: 1254 lived_vars: 4153 lived_ops: 19359\n",
      " name: sfrl is_device: 1 used: 12.99GB(91.3%) unused: 1.236GB(8.68%) ULB: 46.08MB ULBO:   170MB total: 14.23GB\n",
      " name: sfrl is_device: 1 used:     0 B(-nan%) unused:     0 B(-nan%) total:     0 B\n",
      " name: sfrl is_device: 0 used:     0 B(-nan%) unused:     0 B(-nan%) total:     0 B\n",
      " name: sfrl is_device: 0 used: 2.189MB(0.263%) unused: 831.8MB(99.7%) ULB:    98MB ULBO:    98MB total:   834MB\n",
      " name: sfrl is_device: 0 used:     0 B(-nan%) unused:     0 B(-nan%) total:     0 B\n",
      " name: temp is_device: 0 used:     0 B(-nan%) unused:     0 B(-nan%) total:     0 B\n",
      " name: temp is_device: 1 used:     0 B(0%) unused: 9.606MB(100%) total: 9.606MB\n",
      " cpu&gpu: 15.05GB gpu: 14.24GB cpu:   834MB\n",
      " free: cpu(14.27GB) gpu(205.8MB)\n",
      " swap: total(    0 B) last(    0 B)\n",
      "===========================\n",
      "\u001b[m\n",
      "\u001b[38;5;2m[i 0801 15:30:40.629118 08 cuda_device_allocator.cc:30] \n",
      "=== display_memory_info ===\n",
      " total_cpu_ram: 31.41GB total_device_ram: 15.78GB\n",
      " hold_vars: 1254 lived_vars: 4153 lived_ops: 19359\n",
      " name: sfrl is_device: 1 used: 13.21GB(92.9%) unused: 1.014GB(7.13%) ULB: 46.08MB ULBO:   170MB total: 14.22GB\n",
      " name: sfrl is_device: 1 used:     0 B(-nan%) unused:     0 B(-nan%) total:     0 B\n",
      " name: sfrl is_device: 0 used:     0 B(-nan%) unused:     0 B(-nan%) total:     0 B\n",
      " name: sfrl is_device: 0 used: 2.189MB(73%) unused:   830KB(27%) total:     3MB\n",
      " name: sfrl is_device: 0 used:     0 B(-nan%) unused:     0 B(-nan%) total:     0 B\n",
      " name: temp is_device: 0 used:     0 B(-nan%) unused:     0 B(-nan%) total:     0 B\n",
      " name: temp is_device: 1 used:     0 B(-nan%) unused:     0 B(-nan%) total:     0 B\n",
      " cpu&gpu: 14.23GB gpu: 14.22GB cpu:     3MB\n",
      " free: cpu(15.09GB) gpu(177.8MB)\n",
      " swap: total(    0 B) last(    0 B)\n",
      "===========================\n",
      "\u001b[m\n",
      "\u001b[38;5;2m[i 0801 15:30:40.631370 08 cuda_device_allocator.cc:30] \n",
      "=== display_memory_info ===\n",
      " total_cpu_ram: 31.41GB total_device_ram: 15.78GB\n",
      " hold_vars: 1254 lived_vars: 4153 lived_ops: 19359\n",
      " name: sfrl is_device: 1 used: 13.21GB(92.9%) unused: 1.014GB(7.13%) ULB: 46.08MB ULBO:   170MB total: 14.22GB\n",
      " name: sfrl is_device: 1 used:     0 B(-nan%) unused:     0 B(-nan%) total:     0 B\n",
      " name: sfrl is_device: 0 used:     0 B(-nan%) unused:     0 B(-nan%) total:     0 B\n",
      " name: sfrl is_device: 0 used: 2.189MB(73%) unused:   830KB(27%) total:     3MB\n",
      " name: sfrl is_device: 0 used:     0 B(-nan%) unused:     0 B(-nan%) total:     0 B\n",
      " name: temp is_device: 0 used:     0 B(-nan%) unused:     0 B(-nan%) total:     0 B\n",
      " name: temp is_device: 1 used:     0 B(-nan%) unused:     0 B(-nan%) total:     0 B\n",
      " cpu&gpu: 14.23GB gpu: 14.22GB cpu:     3MB\n",
      " free: cpu(15.09GB) gpu(177.8MB)\n",
      " swap: total(    0 B) last(    0 B)\n",
      "===========================\n",
      "\u001b[m\n",
      "  0%|          | 0/935 [00:19<?, ?it/s]\n"
     ]
    },
    {
     "ename": "RuntimeError",
     "evalue": "\u001b[38;5;1m[f 0801 15:30:40.632038 08 executor.cc:686] \nExecute fused operator(5725/6459) failed. \n[JIT Source]: /root/.cache/jittor/jt1.3.9/g++11.4.0/py3.10.14/Linux-4.19.24-xe6/IntelRXeonRPlaxf9/d731/default/cu12.1.105_sm_70/jit/__opkey0_array__T_float32__opkey1_broadcast_to__Tx_float32__DIM_3__BCAST_3__opkey2_broadca___hash_febb7ee8e2a4d734_op.cc \n[OP TYPE]: fused_op:( array, broadcast_to, broadcast_to, binary.add, binary.multiply, unary.sigmoid, binary.multiply,)\n[Input]: float32[2048,]transformer.resblocks.10.mlp.c_fc.bias, float32[77,374,2048,], \n[Output]: float32[77,374,2048,], \n[Async Backtrace]: not found, please set env JT_SYNC=1, trace_py_var=3 \n[Reason]: \u001b[38;5;1m[f 0801 15:30:40.631931 08 cuda_device_allocator.cc:31] Unable to alloc cuda device memory for size 236978176\u001b[m\u001b[m\n**********\nAsync error was detected. To locate the async backtrace and get better error report, please rerun your code with two enviroment variables set:\n>>> export JT_SYNC=1\n>>> export trace_py_var=3\n",
     "output_type": "error",
     "traceback": [
      "\u001b[0;31m---------------------------------------------------------------------------\u001b[0m",
      "\u001b[0;31mRuntimeError\u001b[0m                              Traceback (most recent call last)",
      "Cell \u001b[0;32mIn[20], line 3\u001b[0m\n\u001b[1;32m      1\u001b[0m loss_img \u001b[38;5;241m=\u001b[39m nn\u001b[38;5;241m.\u001b[39mCrossEntropyLoss()\u001b[38;5;241m.\u001b[39mcuda()\n\u001b[1;32m      2\u001b[0m text_features \u001b[38;5;241m=\u001b[39m process_textfeatures(model_clip)\n\u001b[0;32m----> 3\u001b[0m val_acc \u001b[38;5;241m=\u001b[39m \u001b[43mvalidate\u001b[49m\u001b[43m(\u001b[49m\u001b[43mval_loader\u001b[49m\u001b[43m,\u001b[49m\u001b[43m \u001b[49m\u001b[43mmodel_clip\u001b[49m\u001b[43m,\u001b[49m\u001b[43m \u001b[49m\u001b[43mpreprocess\u001b[49m\u001b[43m,\u001b[49m\u001b[43m \u001b[49m\u001b[43mloss_img\u001b[49m\u001b[43m,\u001b[49m\u001b[43m \u001b[49m\u001b[43mtext_features\u001b[49m\u001b[43m,\u001b[49m\u001b[43m \u001b[49m\u001b[43mbs_value\u001b[49m\u001b[43m)\u001b[49m\n\u001b[1;32m      5\u001b[0m     \u001b[38;5;66;03m# if train_acc.avg.item() > best_acc:\u001b[39;00m\n\u001b[1;32m      6\u001b[0m     \u001b[38;5;66;03m# best_acc = round(val_acc.avg.item(), 2)\u001b[39;00m\n\u001b[1;32m      7\u001b[0m     \u001b[38;5;66;03m# acc_list.append(best_acc)\u001b[39;00m\n",
      "Cell \u001b[0;32mIn[9], line 15\u001b[0m, in \u001b[0;36mvalidate\u001b[0;34m(val_loader, model, preprocess, loss_img, text_features, bs_value)\u001b[0m\n\u001b[1;32m     10\u001b[0m end \u001b[38;5;241m=\u001b[39m time\u001b[38;5;241m.\u001b[39mtime()\n\u001b[1;32m     11\u001b[0m \u001b[38;5;28;01mfor\u001b[39;00m i, (imgs, target, description) \u001b[38;5;129;01min\u001b[39;00m tqdm(\u001b[38;5;28menumerate\u001b[39m(val_loader), total\u001b[38;5;241m=\u001b[39mbatch_num):\n\u001b[1;32m     12\u001b[0m     \u001b[38;5;66;03m# img [1, 224, 224, 3]  但是用不着\u001b[39;00m\n\u001b[1;32m     13\u001b[0m \n\u001b[1;32m     14\u001b[0m     \u001b[38;5;66;03m# 将 NumPy 数组转换为 PIL 图像并进行预处理\u001b[39;00m\n\u001b[0;32m---> 15\u001b[0m     images \u001b[38;5;241m=\u001b[39m [Image\u001b[38;5;241m.\u001b[39mfromarray(img_np) \u001b[38;5;28;01mfor\u001b[39;00m img_np \u001b[38;5;129;01min\u001b[39;00m \u001b[43mimgs\u001b[49m\u001b[38;5;241;43m.\u001b[39;49m\u001b[43mnumpy\u001b[49m\u001b[43m(\u001b[49m\u001b[43m)\u001b[49m]\n\u001b[1;32m     18\u001b[0m     \u001b[38;5;66;03m# 预处理图像\u001b[39;00m\n\u001b[1;32m     19\u001b[0m     images_preprocessed \u001b[38;5;241m=\u001b[39m jt\u001b[38;5;241m.\u001b[39mcat([preprocess(image)\u001b[38;5;241m.\u001b[39munsqueeze(\u001b[38;5;241m0\u001b[39m) \u001b[38;5;28;01mfor\u001b[39;00m image \u001b[38;5;129;01min\u001b[39;00m images], dim\u001b[38;5;241m=\u001b[39m\u001b[38;5;241m0\u001b[39m)\n",
      "\u001b[0;31mRuntimeError\u001b[0m: \u001b[38;5;1m[f 0801 15:30:40.632038 08 executor.cc:686] \nExecute fused operator(5725/6459) failed. \n[JIT Source]: /root/.cache/jittor/jt1.3.9/g++11.4.0/py3.10.14/Linux-4.19.24-xe6/IntelRXeonRPlaxf9/d731/default/cu12.1.105_sm_70/jit/__opkey0_array__T_float32__opkey1_broadcast_to__Tx_float32__DIM_3__BCAST_3__opkey2_broadca___hash_febb7ee8e2a4d734_op.cc \n[OP TYPE]: fused_op:( array, broadcast_to, broadcast_to, binary.add, binary.multiply, unary.sigmoid, binary.multiply,)\n[Input]: float32[2048,]transformer.resblocks.10.mlp.c_fc.bias, float32[77,374,2048,], \n[Output]: float32[77,374,2048,], \n[Async Backtrace]: not found, please set env JT_SYNC=1, trace_py_var=3 \n[Reason]: \u001b[38;5;1m[f 0801 15:30:40.631931 08 cuda_device_allocator.cc:31] Unable to alloc cuda device memory for size 236978176\u001b[m\u001b[m\n**********\nAsync error was detected. To locate the async backtrace and get better error report, please rerun your code with two enviroment variables set:\n>>> export JT_SYNC=1\n>>> export trace_py_var=3\n"
     ]
    }
   ],
   "source": [
    "loss_img = nn.CrossEntropyLoss().cuda()\n",
    "text_features = process_textfeatures(model_clip)\n",
    "val_acc = validate(val_loader, model_clip, preprocess, loss_img, text_features, bs_value)\n",
    "\n",
    "    # if train_acc.avg.item() > best_acc:\n",
    "    # best_acc = round(val_acc.avg.item(), 2)\n",
    "    # acc_list.append(best_acc)"
   ]
  },
  {
   "cell_type": "code",
   "execution_count": 33,
   "id": "4109e9b4-e270-455c-8fa6-7e0e8a7c999d",
   "metadata": {
    "execution": {
     "iopub.execute_input": "2024-08-01T06:49:10.363580Z",
     "iopub.status.busy": "2024-08-01T06:49:10.363079Z",
     "iopub.status.idle": "2024-08-01T06:53:08.842026Z",
     "shell.execute_reply": "2024-08-01T06:53:08.841212Z",
     "shell.execute_reply.started": "2024-08-01T06:49:10.363548Z"
    }
   },
   "outputs": [
    {
     "name": "stderr",
     "output_type": "stream",
     "text": [
      "100%|██████████| 3073/3073 [03:58<00:00, 12.89it/s]"
     ]
    },
    {
     "name": "stdout",
     "output_type": "stream",
     "text": [
      "(3073, 374)\n"
     ]
    },
    {
     "name": "stderr",
     "output_type": "stream",
     "text": [
      "\n"
     ]
    }
   ],
   "source": [
    "test_pred = predict(test_label, model_clip, preprocess, text_features, 1)\n",
    "print(test_pred.shape)"
   ]
  },
  {
   "cell_type": "code",
   "execution_count": 34,
   "id": "164e92e3-7f7d-4ace-98cd-09f43a1e436b",
   "metadata": {
    "execution": {
     "iopub.execute_input": "2024-08-01T06:53:12.572427Z",
     "iopub.status.busy": "2024-08-01T06:53:12.571935Z",
     "iopub.status.idle": "2024-08-01T06:53:12.607434Z",
     "shell.execute_reply": "2024-08-01T06:53:12.606740Z",
     "shell.execute_reply.started": "2024-08-01T06:53:12.572378Z"
    },
    "tags": []
   },
   "outputs": [],
   "source": [
    "top_k = 5\n",
    "top_k_indices = np.argsort(test_pred, axis=1)[:, -top_k:]\n",
    "top_k_indices = np.flip(top_k_indices, axis=1)"
   ]
  },
  {
   "cell_type": "code",
   "execution_count": 35,
   "id": "d1478313-70bf-4d91-931c-8a60f4bec364",
   "metadata": {
    "execution": {
     "iopub.execute_input": "2024-08-01T06:53:12.996458Z",
     "iopub.status.busy": "2024-08-01T06:53:12.996031Z",
     "iopub.status.idle": "2024-08-01T06:53:13.002122Z",
     "shell.execute_reply": "2024-08-01T06:53:13.001470Z",
     "shell.execute_reply.started": "2024-08-01T06:53:12.996423Z"
    },
    "tags": []
   },
   "outputs": [],
   "source": [
    "test_label[['Top1', 'Top2', 'Top3', 'Top4', 'Top5']] = top_k_indices"
   ]
  },
  {
   "cell_type": "code",
   "execution_count": 36,
   "id": "f92dfc33-1bf7-4bae-bb50-0c5905f48e25",
   "metadata": {
    "execution": {
     "iopub.execute_input": "2024-08-01T06:53:13.458765Z",
     "iopub.status.busy": "2024-08-01T06:53:13.458291Z",
     "iopub.status.idle": "2024-08-01T06:53:13.468889Z",
     "shell.execute_reply": "2024-08-01T06:53:13.468248Z",
     "shell.execute_reply.started": "2024-08-01T06:53:13.458729Z"
    },
    "tags": []
   },
   "outputs": [
    {
     "data": {
      "text/html": [
       "<div>\n",
       "<style scoped>\n",
       "    .dataframe tbody tr th:only-of-type {\n",
       "        vertical-align: middle;\n",
       "    }\n",
       "\n",
       "    .dataframe tbody tr th {\n",
       "        vertical-align: top;\n",
       "    }\n",
       "\n",
       "    .dataframe thead th {\n",
       "        text-align: right;\n",
       "    }\n",
       "</style>\n",
       "<table border=\"1\" class=\"dataframe\">\n",
       "  <thead>\n",
       "    <tr style=\"text-align: right;\">\n",
       "      <th></th>\n",
       "      <th>img_name</th>\n",
       "      <th>path</th>\n",
       "      <th>description</th>\n",
       "      <th>Top1</th>\n",
       "      <th>Top2</th>\n",
       "      <th>Top3</th>\n",
       "      <th>Top4</th>\n",
       "      <th>Top5</th>\n",
       "    </tr>\n",
       "  </thead>\n",
       "  <tbody>\n",
       "    <tr>\n",
       "      <th>0</th>\n",
       "      <td>image_855.jpeg</td>\n",
       "      <td>/mnt/workspace/JCLIP/Dataset/TestSetA/image_85...</td>\n",
       "      <td>None</td>\n",
       "      <td>365</td>\n",
       "      <td>363</td>\n",
       "      <td>303</td>\n",
       "      <td>349</td>\n",
       "      <td>326</td>\n",
       "    </tr>\n",
       "    <tr>\n",
       "      <th>1</th>\n",
       "      <td>image_2480.jpg</td>\n",
       "      <td>/mnt/workspace/JCLIP/Dataset/TestSetA/image_24...</td>\n",
       "      <td>None</td>\n",
       "      <td>145</td>\n",
       "      <td>143</td>\n",
       "      <td>151</td>\n",
       "      <td>202</td>\n",
       "      <td>162</td>\n",
       "    </tr>\n",
       "    <tr>\n",
       "      <th>2</th>\n",
       "      <td>image_1008.jpg</td>\n",
       "      <td>/mnt/workspace/JCLIP/Dataset/TestSetA/image_10...</td>\n",
       "      <td>None</td>\n",
       "      <td>165</td>\n",
       "      <td>151</td>\n",
       "      <td>164</td>\n",
       "      <td>160</td>\n",
       "      <td>241</td>\n",
       "    </tr>\n",
       "    <tr>\n",
       "      <th>3</th>\n",
       "      <td>image_1230.jpg</td>\n",
       "      <td>/mnt/workspace/JCLIP/Dataset/TestSetA/image_12...</td>\n",
       "      <td>None</td>\n",
       "      <td>79</td>\n",
       "      <td>80</td>\n",
       "      <td>115</td>\n",
       "      <td>61</td>\n",
       "      <td>303</td>\n",
       "    </tr>\n",
       "    <tr>\n",
       "      <th>4</th>\n",
       "      <td>image_1229.jpeg</td>\n",
       "      <td>/mnt/workspace/JCLIP/Dataset/TestSetA/image_12...</td>\n",
       "      <td>None</td>\n",
       "      <td>246</td>\n",
       "      <td>247</td>\n",
       "      <td>244</td>\n",
       "      <td>329</td>\n",
       "      <td>362</td>\n",
       "    </tr>\n",
       "    <tr>\n",
       "      <th>5</th>\n",
       "      <td>image_2981.jpg</td>\n",
       "      <td>/mnt/workspace/JCLIP/Dataset/TestSetA/image_29...</td>\n",
       "      <td>None</td>\n",
       "      <td>252</td>\n",
       "      <td>351</td>\n",
       "      <td>276</td>\n",
       "      <td>280</td>\n",
       "      <td>363</td>\n",
       "    </tr>\n",
       "    <tr>\n",
       "      <th>6</th>\n",
       "      <td>image_1754.jpg</td>\n",
       "      <td>/mnt/workspace/JCLIP/Dataset/TestSetA/image_17...</td>\n",
       "      <td>None</td>\n",
       "      <td>157</td>\n",
       "      <td>160</td>\n",
       "      <td>151</td>\n",
       "      <td>241</td>\n",
       "      <td>226</td>\n",
       "    </tr>\n",
       "    <tr>\n",
       "      <th>7</th>\n",
       "      <td>image_1105.jpg</td>\n",
       "      <td>/mnt/workspace/JCLIP/Dataset/TestSetA/image_11...</td>\n",
       "      <td>None</td>\n",
       "      <td>358</td>\n",
       "      <td>250</td>\n",
       "      <td>360</td>\n",
       "      <td>363</td>\n",
       "      <td>371</td>\n",
       "    </tr>\n",
       "    <tr>\n",
       "      <th>8</th>\n",
       "      <td>image_319.jpg</td>\n",
       "      <td>/mnt/workspace/JCLIP/Dataset/TestSetA/image_31...</td>\n",
       "      <td>None</td>\n",
       "      <td>82</td>\n",
       "      <td>285</td>\n",
       "      <td>264</td>\n",
       "      <td>295</td>\n",
       "      <td>334</td>\n",
       "    </tr>\n",
       "    <tr>\n",
       "      <th>9</th>\n",
       "      <td>image_499.jpg</td>\n",
       "      <td>/mnt/workspace/JCLIP/Dataset/TestSetA/image_49...</td>\n",
       "      <td>None</td>\n",
       "      <td>160</td>\n",
       "      <td>164</td>\n",
       "      <td>241</td>\n",
       "      <td>226</td>\n",
       "      <td>157</td>\n",
       "    </tr>\n",
       "  </tbody>\n",
       "</table>\n",
       "</div>"
      ],
      "text/plain": [
       "          img_name                                               path  \\\n",
       "0   image_855.jpeg  /mnt/workspace/JCLIP/Dataset/TestSetA/image_85...   \n",
       "1   image_2480.jpg  /mnt/workspace/JCLIP/Dataset/TestSetA/image_24...   \n",
       "2   image_1008.jpg  /mnt/workspace/JCLIP/Dataset/TestSetA/image_10...   \n",
       "3   image_1230.jpg  /mnt/workspace/JCLIP/Dataset/TestSetA/image_12...   \n",
       "4  image_1229.jpeg  /mnt/workspace/JCLIP/Dataset/TestSetA/image_12...   \n",
       "5   image_2981.jpg  /mnt/workspace/JCLIP/Dataset/TestSetA/image_29...   \n",
       "6   image_1754.jpg  /mnt/workspace/JCLIP/Dataset/TestSetA/image_17...   \n",
       "7   image_1105.jpg  /mnt/workspace/JCLIP/Dataset/TestSetA/image_11...   \n",
       "8    image_319.jpg  /mnt/workspace/JCLIP/Dataset/TestSetA/image_31...   \n",
       "9    image_499.jpg  /mnt/workspace/JCLIP/Dataset/TestSetA/image_49...   \n",
       "\n",
       "  description  Top1  Top2  Top3  Top4  Top5  \n",
       "0        None   365   363   303   349   326  \n",
       "1        None   145   143   151   202   162  \n",
       "2        None   165   151   164   160   241  \n",
       "3        None    79    80   115    61   303  \n",
       "4        None   246   247   244   329   362  \n",
       "5        None   252   351   276   280   363  \n",
       "6        None   157   160   151   241   226  \n",
       "7        None   358   250   360   363   371  \n",
       "8        None    82   285   264   295   334  \n",
       "9        None   160   164   241   226   157  "
      ]
     },
     "execution_count": 36,
     "metadata": {},
     "output_type": "execute_result"
    }
   ],
   "source": [
    "test_label.head(10)"
   ]
  },
  {
   "cell_type": "code",
   "execution_count": 37,
   "id": "cf715186-050b-460a-9524-7abbb28e8438",
   "metadata": {
    "execution": {
     "iopub.execute_input": "2024-08-01T06:53:16.785447Z",
     "iopub.status.busy": "2024-08-01T06:53:16.784946Z",
     "iopub.status.idle": "2024-08-01T06:53:16.802059Z",
     "shell.execute_reply": "2024-08-01T06:53:16.801379Z",
     "shell.execute_reply.started": "2024-08-01T06:53:16.785391Z"
    },
    "tags": []
   },
   "outputs": [],
   "source": [
    "columns_to_save = ['img_name', 'Top1', 'Top2', 'Top3', 'Top4', 'Top5']\n",
    "df_selected = test_label[columns_to_save]\n",
    "df_selected.to_csv('../model_output/result_clip_ft.txt', sep=' ', index=False, header=False)"
   ]
  },
  {
   "cell_type": "code",
   "execution_count": null,
   "id": "db2bceeb-37c5-4e8f-929c-4ee8c608e001",
   "metadata": {},
   "outputs": [],
   "source": []
  }
 ],
 "metadata": {
  "kernelspec": {
   "display_name": "Python 3 (ipykernel)",
   "language": "python",
   "name": "python3"
  },
  "language_info": {
   "codemirror_mode": {
    "name": "ipython",
    "version": 3
   },
   "file_extension": ".py",
   "mimetype": "text/x-python",
   "name": "python",
   "nbconvert_exporter": "python",
   "pygments_lexer": "ipython3",
   "version": "3.10.14"
  }
 },
 "nbformat": 4,
 "nbformat_minor": 5
}
